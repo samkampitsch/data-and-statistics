{
 "cells": [
  {
   "cell_type": "markdown",
   "metadata": {},
   "source": [
    "# <ins> Exoplanet mass-radius relationship </ins>\n"
   ]
  },
  {
   "cell_type": "markdown",
   "metadata": {},
   "source": [
    "## Table of Contents\n",
    "[1 Scientific Background](#1) <br>\n",
    "[1.1 Definition of Exoplanets](#1_1) <br>\n",
    "[1.2 Past](#1_2)<br>\n",
    "[1.3 Present](#1_3)<br>\n",
    "[1.4 Future](#1_4)<br>\n",
    "[1.5 First discovery of an exoplanet](#1_5)<br>\n"
   ]
  },
  {
   "cell_type": "markdown",
   "metadata": {},
   "source": [
    "<a id=\"1\"></a>\n",
    "## 1 Scientific background\n",
    "<a id=\"1_1\"></a>\n",
    "### 1.1 Definition of Exoplanets \n",
    "To give a short definition of an exoplanet one would say it is a planet outside the solar system. Hence the also popular name \"extrasolar planet\". Although the IAU has never officially agreed on a standard definition there are some statements they agreed on. \n",
    "1. The minimum size and mass are defined equally in exoplanets as in the solar system: ability to clear their orbit and the overcoming of external forces by sufficient self-gravity. \n",
    "2. Masses must lay below the minimum mass for thermonuclear fusion of deuterium (around 13 Jupiter masses). Anything above this limit is called a brown dwarf.\n",
    "3. These objects must orbit stars or stellar remnants. Bodies with masses < 13M<sub>J</sub> that are free-floating in young star clusters are not considered to be planets but sub-brown dwarfs.\n",
    "\n",
    "In the following abstract different types of extrasolar planets will be characterized.\n",
    "It should be noted that a vast majority are defined based on mass, size and composition. \n",
    "- Sub-Earth <br> \n",
    "0.01 to 0.5 M<sub>E</sub> \n",
    "\n",
    "- Terrestrial <br>\n",
    "0.5 to 2 M<sub>E</sub> <br> \n",
    "Earth-like structure \"Terra and Tellus\" roughly translated to \"land and ground\"\n",
    "\n",
    "- Super-Earth <br> \n",
    "2 to 10 M<sub>E</sub> <br> \n",
    "often this range is not perfectly defined\n",
    "\n",
    "- Mega-Earth <br> > 10 M<sub>E</sub> <br> \n",
    "despite their size mostly terrestrial (rocky core enveloped by not too thick atmospheres)\n",
    "\n",
    "- Mini-Neptune <br> \n",
    "1.7 to 3.0 R<sub>E</sub> <br> > 17.15 M<sub>E</sub> in other words a planet less massive than Neptune (controversial depending on composition) <br>\n",
    "thick atmosphere (hydrogen-helium) with deep rock or ice layers, possibly even liquid ocean \n",
    "\n",
    "- Gas Giant <br> \n",
    "largely made up of Hydrogen and Helium <br>\n",
    "name from Science fiction writer James Blish - 1952\n",
    "\n",
    "- Super-Jupiter <br>\n",
    "larger than Jupiter\n",
    "\n",
    "\n",
    "Another distinction can be made by observing mass, composition and orbit.\n",
    "- Hot Super-Earth<br>\n",
    "extremly high temperatures due to close orbits\n",
    "\n",
    "- Hot Neptune (Hoptune)<br>\n",
    "mass equivalent to Uranus/Neptune <br>\n",
    "orbit < 1 AU\n",
    "\n",
    "- Cold Neptune (Ice-Giant) <br>\n",
    "elements heavier than H and He <br>\n",
    "\"ice\": volatile substance with freezing point > 100K\n",
    "\n",
    "- Hot Jupiter <br>\n",
    "structure similar to Jupiter <br>\n",
    "orbital period < 10 days<br>\n",
    "51 Peg b (1990s)\n",
    "\n",
    "- Cold Jupiter<br>\n",
    "mass > 0.3 M<sub>J</sub> <br> \n",
    "orbit > 1 AU <br> <details> gas giants beyond a distance to their host where volatile substances condense into solid grains </details>\n",
    "\n",
    "Lastly, one group of exoplanets will be mentioned purely relying on the characterization of mass and size.\n",
    "- Super-Puff / Cotton-Candy<br>\n",
    "mass similar to earth<br>\n",
    "radius larger than that of Neptune<br>\n",
    "[(Sanjana Gupta et al 2022)](#ce)\n"
   ]
  },
  {
   "cell_type": "markdown",
   "metadata": {},
   "source": [
    "<a id=\"1_2\"></a>\n",
    "### 1.2 Past\n",
    "\n",
    "The first exoplanet to be discovered by using the radial velocity method is 51 Pegasi b. This exoplanet was discovered in 1995 by Mayor and Queloz. In this method, the mass of the exoplanet and its influence on the orbital motion of the host star is being analyzed in the context of its spectra. Due to the additional mass of the exoplanet, the host star’s orbital motion around its mass center changes. Now, because of this, there are some changes visible in the spectra of the host star. Those changes are, for example, periodic blue or redshift. This shift in a spectrum in combination with movement is called the Doppler effect.\n",
    "One of the downsides of this detection method is the detection of the exoplanet’s mass. Since the detected mass is always the minimum mass of the exoplanet, and its real mass can be way bigger than previously detected mass. Due to that, the changes in the orbital motions of the host star around its mass center are also not exactly detectable, and neither are its spectra changes. Another downside of the radial velocity method is the need for a very high-resolution spectrograph since changes in the spectra are often hardly detectible due to the changes being relatively small. [(Chien-Hsiu Lee 2018)](#ppf)"
   ]
  },
  {
   "cell_type": "markdown",
   "metadata": {},
   "source": [
    "<a id=\"1_3\"></a>\n",
    "### 1.3 Present\n",
    "\n",
    "Present experiments and missions concerning the detection of exoplanets and their systems are being focused on the precision of the radii measurements. This is achieved with the combination of the radial velocity method and the transit method. Because of this combination, the radius of the host star can be detected more precisely, and with that, the exoplanet’s radius gets detected more precisely as well. The combination of those two detection methods also solves the problem of the exoplanet’s orbit inclination, which occurred in the radial velocity method. An example of such a mission is the California Kepler Survey (CKS), which uses the High-Resolution Echelle Spectrometer (HIRES).\n",
    "Another important research is concerning the exoplanets’ orbit. It has been figured out that an exoplanet’s orbit can change over time. This can happen due to planetary scattering. Planetary scattering can only happen if at least two exoplanets orbit the same host star. If their orbits cross each other and following on from that collide. One of the exoplanets gets pushed away from the host star leading to an expanding orbit, and the other one gets pushed towards the host star leading to an increased orbit. [(Chien-Hsiu Lee 2018)](#ppf)<br>\n",
    "Also, the James Webb telescope was launched on the 25th of December 2021. Unlike its predecessor Hubble, it orbits the second Lagrange point. Its missions are wide-ranging but it also studies far-away solar systems which might support life similar to Earths. Below the first direct image of an extrasolar planet can be seen. \n"
   ]
  },
  {
   "cell_type": "markdown",
   "metadata": {},
   "source": [
    "<a id=\"figure-link\"></a>\n",
    "<div>\n",
    "<img src=\"https://blogs.nasa.gov/webb/wp-content/uploads/sites/326/2022/08/STSCI-J-p2022-HIP65426b-f-1528x1130-1.png\" width=\"400\">\n",
    "</div>\n",
    "\n",
    "Figure 1: \n",
    "\n",
    "*Exoplanet HIP 65426 b in different infrared bands (3μm-15.5μm) imaged by James Webb Telescope. The star’s light was blocked out using a coronagraph, to see the planet better.*\n",
    "\n",
    "[(Alise Fisher 2022)](#jwt)"
   ]
  },
  {
   "cell_type": "markdown",
   "metadata": {},
   "source": [
    "<a id=\"1_4\"></a>\n",
    "### 1.4 Future\n",
    "\n",
    "Several missions for the further or more precise discovery of exoplanets are planned and in the making. As an example, the Planetary Transit and Oscillations of Stars mission (PLATO) is planned to start in 2026. This telescope will be specialized in the detection and research of very bright stars and their exoplanets. Another example is the Nancy Grace Roman Space Telescope (NGRST), which is set to start in 2027. This telescope is built to have an incredible spatial resolution and will be discovering and analyzing exoplanets using the microlensing method. [(Chien-Hsiu Lee 2018)](#ppf) "
   ]
  },
  {
   "cell_type": "markdown",
   "metadata": {},
   "source": [
    "<a id=\"1_5\"></a>\n",
    "### 1.5 First discovery of an exoplanet\n",
    "\n",
    "In January 1992, a landmark discovery shook the world of astronomy and astrophysics with the announcement of the first extrasolar planets ever observed. These exoplanets were detected orbiting the millisecond pulsar PSR1257+12. This discovery was made known through the letter titled \"A Planetary System around the Millisecond Pulsar PSR1257+12\" by Aleksander Wolszczan to Nature and a press release issued by Cornell University, which marked a pivotal moment in the exploration of exoplanets.\n",
    "These newfound planets were identified through a technique called the pulsar timing method. By meticulously measuring the timing of radio signals emitted by the pulsar PSR1257+12, astronomers observed variations that were attributed to the gravitational influence of planets orbiting the pulsar. These observed pulsar period measurements over a few years were compared to the construction of a time model that included non-interacting Keplerian orbits and fitting it to the data, along with standard pulsar parameters [Figure 2](#pulsar). This approach allowed astronomers to deduce the properties of the detected planets and their orbits with a high degree of confidence.\n",
    "\n",
    "\n",
    "\n",
    "<a id=\"pulsar\"></a>\n",
    "<div>\n",
    "<img src=\"https://www.schoolsobservatory.org/sites/default/files/discover/exoplanets/frail%20paper.png\" width=\"400\">\n",
    "</div>\n",
    "Figure 2:\n",
    "\n",
    "*Observed pulsar period measurements + period changes predicted by a two-planet model*\n",
    "\n",
    "The discovery revealed two (or possibly three) planets with masses of 2.8 and 3.4 Earth masses, which was particularly intriguing because these planets were located in extremely close proximity to the pulsar. Their distances were about 0.47 and 0.34 AU. The most extraordinary aspect of this discovery lay in the unconventional environment where these planets were located, it was widely believed that planets could not exist around such exotic and hostile objects. The discovery prompted a reevaluation of our understanding of planetary formation and the remarkable diversity of planetary systems that might exist in the cosmos and raised questions about the diversity of planetary systems in the universe.\n",
    "In summary, the 1992 discovery of exoplanets orbiting PSR1257+12 was a transformative event in exoplanetary science. It marked the first confirmed detection of planets beyond our solar system and challenged our understanding of planetary formation and the diversity of planetary systems in the universe. This pivotal moment set the stage for continued investigation, offering the promise of deeper insights into these exoplanets and the extraordinary environments in which they exist. [(A. Wolszczan 1993)](#first)"
   ]
  },
  {
   "cell_type": "markdown",
   "metadata": {},
   "source": [
    "## Goals for the next lesson\n",
    "Upon further research, we found an intriguing paper from A&A describing the mass-radius relationship of exoplanets. [Dovel Bashi et al. (2017)](#mar) describe a transition between large and small objects that occurs at a mass of 124 ± 7 M<sub>E</sub>  and a radius of 12.1 ± 0.5 R<sub>E</sub>. \n",
    "The methods used in this paper to obtain certain relationships will be a focus point for our further research. \n",
    "<a id=\"killer_figure\"></a>\n",
    "<div>\n",
    "<img src=\"https://www.aanda.org/articles/aa/full_html/2017/08/aa29922-16/aa29922-16-fig1.jpg\" width=\"400\">\n",
    "</div>\n",
    "Figure 3:\n",
    "\n",
    "*\"Top: M-R relation of the exoplanets considered in the analysis. The dashed lines identify the three different regimes we consider for the weighting (see text). Bottom: the M-R relation and the derived best-fit curves, and M-R relations.\"* [Dovel Bashi et al. (2017)](#mar)\n",
    "\n",
    "<br>\n",
    "Furthermore, we will read about an approach using random forest to predict the relationship between mass and radius of exoplanets. Also, work out different statistical methods to predict the relationship."
   ]
  },
  {
   "cell_type": "markdown",
   "metadata": {},
   "source": [
    "# Bibliography\n",
    "\n",
    "<a id=\"ppf\"></a>\n",
    "Chien-Hsiu Lee, 2018, \"Exoplanets: past, present, and future\", arXiv:1804.08907<br>\n",
    "<br>\n",
    "\n",
    "<a id=\"ce\"></a>\n",
    "Sanjana Gupta, Ishan Kaushal, S. Majal Shiny, Janani Kavi Priya, 2022, \"Study on the characteristics of exoplanets: Review\", EDUZONE: International Peer Reviewed/Refereed Multidisciplinary Journal, Volume 11, Issue 1<br>\n",
    "<br>\n",
    "\n",
    "<a id=\"jwt\"></a>\n",
    "Alise Fisher, 2022, NASA’s Webb Takes Its First-Ever Direct Image of Distant World, NASA Blogs, https://blogs.nasa.gov/webb/2022/09/01/nasas-webb-takes-its-first-ever-direct-image-of-distant-world/ (accessed on 07.11.2023)<br>\n",
    "<br>\n",
    "\n",
    "<a id=\"mar\"></a>\n",
    "Dolev Bashi, Ravit Helled, Shay Zucker, Christoph Mordasini, 2017, \"Two empirical regimes of the planetary mass-radius relation\", Astronomy and Astrophysics, Volume 604, Article number A83<br>\n",
    "<br>\n",
    "\n",
    "<a id=\"first\"></a>\n",
    "A. Wolszczan, 1993, Astronomical Society of the Pacific, Volume 36, pages 3-5\n",
    "\n"
   ]
  },
  {
   "cell_type": "markdown",
   "metadata": {},
   "source": [
    "# Table of Figures\n",
    "[Figure 1](#figure-link): Direct image from JWT of HIP 65426 b <br>\n",
    "(https://blogs.nasa.gov/webb/2022/09/01/nasas-webb-takes-its-first-ever-direct-image-of-distant-world/) (accessed on 07.11.2023)<br>\n",
    "\n",
    "[Figure 2](#pulsar): Pulsar periods <br>\n",
    "(https://www.schoolsobservatory.org/sites/default/files/discover/exoplanets/frail%20paper.png) (acessed on 09.11.2023)\n",
    "\n",
    "[Figure 3](#killer_figure): Mass-radius relationship of planets<br>\n",
    "(https://www.aanda.org/articles/aa/full_html/2017/08/aa29922-16/aa29922-16-fig1.jpg) (accessed on 08.11.2023)<br>\n",
    "\n",
    "\n",
    "\n"
   ]
  }
 ],
 "metadata": {
  "kernelspec": {
   "display_name": "Python 3",
   "language": "python",
   "name": "python3"
  },
  "language_info": {
   "name": "python",
   "version": "3.12.0"
  }
 },
 "nbformat": 4,
 "nbformat_minor": 2
}
